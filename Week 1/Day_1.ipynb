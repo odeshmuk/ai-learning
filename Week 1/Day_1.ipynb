{
 "cells": [
  {
   "cell_type": "markdown",
   "id": "b7f7d5a7",
   "metadata": {},
   "source": [
    "Python Basics Refresher (45 mins)\n",
    "\t•\tReview the following core concepts:\n",
    "\t•\tVariables and data types (int, float, str, list, dict, tuple, set)\n",
    "\t•\tControl flow (if, else, elif, for, while)\n",
    "\t•\tFunctions (defining, calling, arguments, return values)\n",
    "\t•\tClasses and basic OOP principles\n",
    "\n",
    "\n",
    "Source : https://docs.python.org/3/tutorial/introduction.html\n"
   ]
  },
  {
   "cell_type": "code",
   "execution_count": 8,
   "id": "f875d2f3",
   "metadata": {},
   "outputs": [
    {
     "name": "stdout",
     "output_type": "stream",
     "text": [
      "8.5\n",
      "5\n",
      "1\n",
      "8\n"
     ]
    }
   ],
   "source": [
    "print(17/2) # regular divisio\n",
    "print(17//3) # floor division, ignores the remainde\n",
    "print(19 % 2) # modulo operation\n",
    "print(2**3) # exponentiation\n",
    "\n"
   ]
  },
  {
   "cell_type": "code",
   "execution_count": 9,
   "id": "994cf4e1",
   "metadata": {},
   "outputs": [
    {
     "name": "stdout",
     "output_type": "stream",
     "text": [
      "50\n"
     ]
    }
   ],
   "source": [
    "width = 5\n",
    "height = 10\n",
    "area = width * height\n",
    "print(area)"
   ]
  },
  {
   "cell_type": "code",
   "execution_count": null,
   "id": "1db3beb8",
   "metadata": {},
   "outputs": [
    {
     "data": {
      "text/plain": [
       "63"
      ]
     },
     "execution_count": 11,
     "metadata": {},
     "output_type": "execute_result"
    }
   ],
   "source": [
    "4**3-1"
   ]
  },
  {
   "cell_type": "code",
   "execution_count": 21,
   "id": "3c8872b6",
   "metadata": {},
   "outputs": [
    {
     "name": "stdout",
     "output_type": "stream",
     "text": [
      "163.5\n"
     ]
    }
   ],
   "source": [
    "tax = 0.2\n",
    "price = 100.5\n",
    "price * tax\n",
    "print(price + _) # Using the underscore to refer to the last printed value\n"
   ]
  },
  {
   "cell_type": "code",
   "execution_count": 29,
   "id": "a3cf03b3",
   "metadata": {},
   "outputs": [
    {
     "name": "stdout",
     "output_type": "stream",
     "text": [
      "Hello World\n"
     ]
    },
    {
     "data": {
      "text/plain": [
       "'AnAnAndroid'"
      ]
     },
     "execution_count": 29,
     "metadata": {},
     "output_type": "execute_result"
    }
   ],
   "source": [
    "print('Hello' + ' World') # String concatenation\n",
    "('An' * 3) + 'droid' # String multiplication"
   ]
  },
  {
   "cell_type": "code",
   "execution_count": null,
   "id": "925d9104",
   "metadata": {},
   "outputs": [
    {
     "name": "stdout",
     "output_type": "stream",
     "text": [
      "['a', 'b', 'c']\n",
      "{'name': 'John', 'age': 30}\n",
      "John\n",
      "(1, 2, 3)\n",
      "1\n",
      "{1, 2, 3, 4}\n",
      "{1, 2, 3, 4, 5, 6}\n"
     ]
    }
   ],
   "source": [
    "# list example\n",
    "x = [\"a\", \"b\", \"c\"]\n",
    "print(x)\n",
    "\n",
    "#dict example\n",
    "y = {\"name\": \"John\", \"age\": 30}\n",
    "print(y)\n",
    "print(y[\"name\"])  # Accessing dictionary value by key\n",
    "\n",
    "# tuple example : Immutable sequence type\n",
    "z = (1, 2, 3)\n",
    "print(z)    \n",
    "print(z[0])  # Accessing tuple value by index\n",
    "\n",
    "\n",
    "# set example\n",
    "s = {1, 2, 3, 4}\n",
    "print(s)\n",
    "print(s.union({5, 6}))  # Union of sets\n",
    "\n"
   ]
  },
  {
   "cell_type": "code",
   "execution_count": 40,
   "id": "c1017c67",
   "metadata": {},
   "outputs": [
    {
     "name": "stdout",
     "output_type": "stream",
     "text": [
      "0\n",
      "1\n",
      "2\n",
      "3\n",
      "4\n",
      "--------------------\n",
      "0\n",
      "1\n",
      "2\n",
      "3\n",
      "4\n",
      "x is between 5 and 15\n"
     ]
    }
   ],
   "source": [
    "# Control loops in python\n",
    "# for loop example\n",
    "for i in range(5):\n",
    "    print(i)  # Prints numbers from 0 to 4\n",
    "print(\"--\" * 10) \n",
    "# while loop example\n",
    "count = 0\n",
    "while count < 5:\n",
    "    print(count)  # Prints numbers from 0 to 4\n",
    "    count += 1\n",
    "\n",
    "# \n",
    "# if-else example\n",
    "x = 10\n",
    "if x < 5:\n",
    "    print(\"x is less than 5\")\n",
    "elif x < 15:\n",
    "    print(\"x is between 5 and 15\")\n",
    "else:\n",
    "    print(\"x is 15 or more\")\n"
   ]
  },
  {
   "cell_type": "code",
   "execution_count": 44,
   "id": "6bb7b055",
   "metadata": {},
   "outputs": [
    {
     "name": "stdout",
     "output_type": "stream",
     "text": [
      "Hello!\n",
      "Hello, Omkar\n"
     ]
    }
   ],
   "source": [
    "# defining a function\n",
    "def greet():\n",
    "    print(\"Hello!\")\n",
    "\n",
    "greet()\n",
    "\n",
    "def greet_person(fname):\n",
    "    print(\"Hello, \"+fname)\n",
    "\n",
    "greet_person('Omkar')"
   ]
  },
  {
   "cell_type": "code",
   "execution_count": 45,
   "id": "3bc32ec7",
   "metadata": {},
   "outputs": [
    {
     "data": {
      "text/plain": [
       "7"
      ]
     },
     "execution_count": 45,
     "metadata": {},
     "output_type": "execute_result"
    }
   ],
   "source": [
    "def add(x,y):\n",
    "    return x+y\n",
    "\n",
    "add(2,5)"
   ]
  },
  {
   "cell_type": "code",
   "execution_count": null,
   "id": "cc9ffc87",
   "metadata": {},
   "outputs": [
    {
     "name": "stdout",
     "output_type": "stream",
     "text": [
      "Value (2)\n"
     ]
    }
   ],
   "source": [
    "class Value: \n",
    "    def __init__(self,value):\n",
    "        self.value = value\n",
    "    def __repr__(self):\n",
    "        return f\"Value ({self.value})\"\n",
    "    \n",
    "    \n",
    "x = Value(2)\n",
    "print(x)"
   ]
  },
  {
   "cell_type": "code",
   "execution_count": 62,
   "id": "34a5c32f",
   "metadata": {},
   "outputs": [
    {
     "name": "stdout",
     "output_type": "stream",
     "text": [
      "Omkar\n",
      "Om\n"
     ]
    }
   ],
   "source": [
    "class Person:\n",
    "    def __init__(self,fname):\n",
    "        self.fname=fname\n",
    "    def printName(self):\n",
    "        print(self.fname)\n",
    "\n",
    "x= Person(\"Omkar\")\n",
    "x.printName()\n",
    "\n",
    "class Student(Person):\n",
    "   pass\n",
    "\n",
    "y= Student(\"Om\")\n",
    "y.printName()"
   ]
  }
 ],
 "metadata": {
  "kernelspec": {
   "display_name": ".venv",
   "language": "python",
   "name": "python3"
  },
  "language_info": {
   "codemirror_mode": {
    "name": "ipython",
    "version": 3
   },
   "file_extension": ".py",
   "mimetype": "text/x-python",
   "name": "python",
   "nbconvert_exporter": "python",
   "pygments_lexer": "ipython3",
   "version": "3.12.7"
  }
 },
 "nbformat": 4,
 "nbformat_minor": 5
}
